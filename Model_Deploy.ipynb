{
 "cells": [
  {
   "cell_type": "code",
   "execution_count": 1,
   "metadata": {},
   "outputs": [],
   "source": [
    "import cv2\n",
    "import torch\n",
    "import numpy as np\n",
    "from ultralytics import YOLO\n",
    "import threading\n",
    "import requests\n",
    "from playsound import playsound"
   ]
  },
  {
   "cell_type": "code",
   "execution_count": null,
   "metadata": {},
   "outputs": [],
   "source": [
    "#For main 1\n",
    "def req(m):\n",
    "    requests.get(\"http://blr1.blynk.cloud/external/api/update?token=&v0=\" + m)\n",
    "    \n",
    "def send(m):\n",
    "    threading.Thread(target = req, args = (m), daemon = True).start()"
   ]
  },
  {
   "cell_type": "code",
   "execution_count": 2,
   "metadata": {},
   "outputs": [],
   "source": [
    "#For main 2\n",
    "def alert():\n",
    "    threading.Thread(target = playsound, args=('/Users/mayurpatowary/Desktop/Project/Tarp Helmet-Detection Project/Buzzer Sound.mp3',), daemon=True).start()"
   ]
  },
  {
   "cell_type": "code",
   "execution_count": 3,
   "metadata": {},
   "outputs": [
    {
     "name": "stderr",
     "output_type": "stream",
     "text": [
      "Downloading: \"https://github.com/ultralytics/yolov5/zipball/master\" to /Users/mayurpatowary/.cache/torch/hub/master.zip\n",
      "YOLOv5 🚀 2023-11-8 Python-3.11.3 torch-2.0.1 CPU\n",
      "\n",
      "Fusing layers... \n",
      "Model summary: 212 layers, 20861016 parameters, 0 gradients, 47.9 GFLOPs\n",
      "Adding AutoShape... \n"
     ]
    }
   ],
   "source": [
    "path = \"/Users/mayurpatowary/Desktop/Project/Tarp Helmet-Detection Project/Model_weight.pt\"\n",
    "model = torch.hub.load('ultralytics/yolov5', 'custom', path, force_reload = True)"
   ]
  },
  {
   "cell_type": "code",
   "execution_count": null,
   "metadata": {},
   "outputs": [],
   "source": [
    "#main 1 (with NodeMCU)\n",
    "cap = cv2.VideoCapture(\"/Users/mayurpatowary/Desktop/Project/IOCL_Project/SRU_Unit/Video Files/1.mp4\")\n",
    "count = 0\n",
    "while True:\n",
    "    ret, frame = cap.read()\n",
    "    count += 1\n",
    "    if count%3 != 0: \n",
    "       continue\n",
    "    frame = cv2.resize(frame,(1020,500))\n",
    "    frame2 = cv2.cvtColor(frame, cv2.COLOR_BGR2RGB)\n",
    "    results = model(frame2)\n",
    "    st = str(results)\n",
    "    output = st[st.index(\"1020\") + 5 : st.index(\"Speed\")]\n",
    "    print(output)\n",
    "    frame = np.squeeze(results.render())\n",
    "    if 'head' in output:\n",
    "        m = \"1\"\n",
    "        cv2.putText(frame, \"No helmet detected!\" ,(45, 36),cv2.FONT_HERSHEY_COMPLEX,(1),(0,0,255),2)\n",
    "    else:\n",
    "        m = \"0\"\n",
    "    send(m)\n",
    "    cv2.imshow(\"Frame\", frame)\n",
    "    if cv2.waitKey(1) & 0xFF == 27:\n",
    "        break\n",
    "m = \"0\"\n",
    "send(m)\n",
    "cap.release()\n",
    "cv2.destroyAllWindows()\n",
    "cv2.waitKey(1)"
   ]
  },
  {
   "cell_type": "code",
   "execution_count": null,
   "metadata": {},
   "outputs": [],
   "source": [
    "#main 2 (without NodeMCU, a alert is generated in the computer itself.)\n",
    "cap = cv2.VideoCapture(0)\n",
    "count = 0\n",
    "while True:\n",
    "    ret, frame = cap.read()\n",
    "    count += 1\n",
    "    if count%4 != 0: \n",
    "       continue\n",
    "    frame = cv2.resize(frame,(1020,500))\n",
    "    frame2 = cv2.cvtColor(frame, cv2.COLOR_BGR2RGB)\n",
    "    results = model(frame2)\n",
    "    st = str(results)\n",
    "    output = st[st.index(\"1020\") + 5 : st.index(\"Speed\")]\n",
    "    print(output)\n",
    "    frame = np.squeeze(results.render())\n",
    "    if 'head' in output:\n",
    "        alert()\n",
    "        cv2.putText(frame, \"No helmet detected!\" ,(45, 36),cv2.FONT_HERSHEY_COMPLEX,(1),(0,0,255),2)\n",
    "    cv2.imshow(\"Frame\", frame)\n",
    "    if cv2.waitKey(1) & 0xFF == 27:\n",
    "        break\n",
    "cap.release()\n",
    "cv2.destroyAllWindows()\n",
    "cv2.waitKey(1)"
   ]
  }
 ],
 "metadata": {
  "kernelspec": {
   "display_name": "Python 3",
   "language": "python",
   "name": "python3"
  },
  "language_info": {
   "codemirror_mode": {
    "name": "ipython",
    "version": 3
   },
   "file_extension": ".py",
   "mimetype": "text/x-python",
   "name": "python",
   "nbconvert_exporter": "python",
   "pygments_lexer": "ipython3",
   "version": "3.11.3"
  }
 },
 "nbformat": 4,
 "nbformat_minor": 2
}
